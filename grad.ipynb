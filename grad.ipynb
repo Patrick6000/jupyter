{
  "nbformat": 4,
  "nbformat_minor": 0,
  "metadata": {
    "colab": {
      "provenance": [],
      "toc_visible": true,
      "include_colab_link": true
    },
    "kernelspec": {
      "name": "python3",
      "display_name": "Python 3"
    },
    "language_info": {
      "name": "python"
    }
  },
  "cells": [
    {
      "cell_type": "markdown",
      "metadata": {
        "id": "view-in-github",
        "colab_type": "text"
      },
      "source": [
        "<a href=\"https://colab.research.google.com/github/Patrick6000/jupyter/blob/main/grad.ipynb\" target=\"_parent\"><img src=\"https://colab.research.google.com/assets/colab-badge.svg\" alt=\"Open In Colab\"/></a>"
      ]
    },
    {
      "cell_type": "code",
      "execution_count": null,
      "metadata": {
        "colab": {
          "base_uri": "https://localhost:8080/",
          "height": 108
        },
        "id": "V248HfBc6Rg8",
        "outputId": "8a1957d8-13db-4c21-d3f1-444425250771"
      },
      "outputs": [
        {
          "output_type": "error",
          "ename": "SyntaxError",
          "evalue": "expected ':' (<ipython-input-1-c25debbf4203>, line 21)",
          "traceback": [
            "\u001b[0;36m  File \u001b[0;32m\"<ipython-input-1-c25debbf4203>\"\u001b[0;36m, line \u001b[0;32m21\u001b[0m\n\u001b[0;31m    def sigmoid(self,X)\u001b[0m\n\u001b[0m                       ^\u001b[0m\n\u001b[0;31mSyntaxError\u001b[0m\u001b[0;31m:\u001b[0m expected ':'\n"
          ]
        }
      ],
      "source": [
        "import numpy as np\n",
        "class Grad:\n",
        "  def __init__(self,eta=0.01,n_iter=50,random_state=1):\n",
        "    self.eta = eta\n",
        "    self.n_iter = n_iter\n",
        "    self.random_state = random_state\n",
        "  def fit(self,X,y):\n",
        "    rgen = np.random.RandomState(self,self.random_state)\n",
        "    self.w_ = rgen.normal(loc=0.0,scale=0.01,size=X.shape[1])\n",
        "    self.b_ = np.float64(0.)\n",
        "    self.errors = []\n",
        "\n",
        "    for _ in range(self.n_iter):\n",
        "      for xi, target in zip(X,y):\n",
        "        update = (target-self.sigmoid(xi))*(-2/len(X))\n",
        "        self.w_ += -self.eta * update*xi\n",
        "        self.b_ += -self.eta * update\n",
        "\n",
        "  def net_input(self,X):\n",
        "    return np.dot(X,self.w_)+self.b_;\n",
        "  def sigmoid(self,X)\n",
        "    return  1 / (1 + np.exp(-self.net_input(X)))\n",
        "  def predict(self,X):\n",
        "    return np.where(X >= 0.5, 1, 0)\n",
        "\n",
        "\n",
        "\n"
      ]
    }
  ]
}